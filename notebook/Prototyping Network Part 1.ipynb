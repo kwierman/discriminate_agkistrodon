{
 "cells": [
  {
   "cell_type": "code",
   "execution_count": 1,
   "metadata": {},
   "outputs": [
    {
     "name": "stderr",
     "output_type": "stream",
     "text": [
      "Using TensorFlow backend.\n"
     ]
    }
   ],
   "source": [
    "from keras.layers import Input, Dropout, Dense, Flatten, concatenate\n",
    "from keras.layers.convolutional import MaxPooling3D, Conv3D, Conv3DTranspose\n",
    "from keras.models import Model"
   ]
  },
  {
   "cell_type": "code",
   "execution_count": 2,
   "metadata": {
    "collapsed": true
   },
   "outputs": [],
   "source": [
    "_input = Input(shape=(1, 3, 9600, 3600))"
   ]
  },
  {
   "cell_type": "code",
   "execution_count": 3,
   "metadata": {
    "collapsed": true
   },
   "outputs": [],
   "source": [
    "conv1 = Conv3D(32, (1, 2, 2), strides=(1, 2, 2),\n",
    "                   activation='relu', padding='same',\n",
    "                   data_format='channels_first',\n",
    "                   name='block1_conv1')(_input)\n",
    "pool1 = MaxPooling3D((1, 2, 2), strides=(1, 2, 2),\n",
    "                         data_format='channels_first',\n",
    "                         name='block1_pool')(conv1)\n",
    "\n",
    "# Block 2\n",
    "conv2 = Conv3D(64, (1, 2, 2), strides=(1, 2, 2),\n",
    "                   activation='relu', padding='same',\n",
    "                   data_format='channels_first',\n",
    "                   name='block2_conv1')(pool1)\n",
    "pool2 = MaxPooling3D((1, 2, 2), strides=(1, 2, 2),\n",
    "                         data_format='channels_first',\n",
    "                         name='block2_pool')(conv2)\n",
    "\n",
    "# Block 3\n",
    "conv3 = Conv3D(128, (3, 2, 2), strides=(3, 2, 2),\n",
    "                   activation='relu', padding='same',\n",
    "                   data_format='channels_first',\n",
    "                   name='block3_conv1')(pool2)\n",
    "pool3 = MaxPooling3D((1, 2, 2), strides=(1, 2, 2),\n",
    "                         data_format='channels_first',\n",
    "                         name='block3_pool')(conv3)\n",
    "\n",
    "# Block 4\n",
    "conv4 = Conv3D(256, (1, 2, 2), strides=(1, 2, 2),\n",
    "                   activation='relu', padding='same',\n",
    "                   data_format='channels_first',\n",
    "                   name='block4_conv1')(pool3)\n",
    "pool4 = MaxPooling3D((1, 2, 2), strides=(1, 2, 2), name='block4_pool',\n",
    "                         data_format='channels_first')(conv4)\n",
    "\n",
    "# Block 5\n",
    "conv5 = Conv3D(512, (1, 2, 2), strides=(1, 2, 2), activation='relu',\n",
    "                   padding='same', data_format='channels_first')(pool4)\n",
    "\n",
    "# Block 6^T\n",
    "up6 = concatenate([Conv3DTranspose(256, (1, 4, 4),\n",
    "                                       strides=(1, 4, 4), padding='same',\n",
    "                                       data_format='channels_first')(conv5),\n",
    "                       conv4], axis=1)\n",
    "conv6 = Conv3D(256, (1, 2, 2), strides=(1, 2, 2), activation='relu',\n",
    "                   padding='same', data_format='channels_first')(up6)\n",
    "\n",
    "# Block 7^T\n",
    "up7 = concatenate([Conv3DTranspose(128, (1, 4, 4),\n",
    "                                       strides=(1, 4, 4), padding='same',\n",
    "                                       data_format='channels_first')(conv6),\n",
    "                       conv3], axis=1)\n",
    "conv7 = Conv3D(128, (1, 2, 2), strides=(1, 2, 2), activation='relu', \n",
    "                   padding='same', data_format='channels_first')(up7)\n",
    "\n",
    "# Block 8^T\n",
    "up8 = concatenate([Conv3DTranspose(64, (3, 4, 4),\n",
    "                                       strides=(3, 4, 7), padding='same',\n",
    "                                       data_format='channels_first')(conv7),\n",
    "                       conv2], axis=1)\n",
    "conv8 = Conv3D(64, (1, 3, 6), activation='relu', padding='same', \n",
    "                   data_format='channels_first')(up8)\n",
    "\n",
    "# Block 9^T\n",
    "up9 = concatenate([Conv3DTranspose(32, (3, 3, 6),\n",
    "                                       strides=(3, 3, 6), padding='same',\n",
    "                                       data_format='channels_first')(up8),\n",
    "                       conv1], axis=1)\n",
    "conv9 = Conv3D(32, (1, 3, 6), activation='relu', padding='same', \n",
    "                   data_format='channels_first')(up9)\n",
    "\n",
    "model = Model(_input, conv9)\n",
    "model.compile(loss='categorical_crossentropy', optimizer='sgd',\n",
    "                 metrics=['accuracy'])"
   ]
  },
  {
   "cell_type": "code",
   "execution_count": 6,
   "metadata": {},
   "outputs": [
    {
     "ename": "ValueError",
     "evalue": "`Concatenate` layer requires inputs with matching shapes except for the concat axis. Got inputs shapes: [(None, 256, 1, 76, 28), (None, 256, 1, 75, 28)]",
     "output_type": "error",
     "traceback": [
      "\u001b[0;31m---------------------------------------------------------------------------\u001b[0m",
      "\u001b[0;31mValueError\u001b[0m                                Traceback (most recent call last)",
      "\u001b[0;32m<ipython-input-6-9b9227185c75>\u001b[0m in \u001b[0;36m<module>\u001b[0;34m()\u001b[0m\n\u001b[1;32m     37\u001b[0m                                        \u001b[0mstrides\u001b[0m\u001b[0;34m=\u001b[0m\u001b[0;34m(\u001b[0m\u001b[0;36m1\u001b[0m\u001b[0;34m,\u001b[0m \u001b[0;36m4\u001b[0m\u001b[0;34m,\u001b[0m \u001b[0;36m4\u001b[0m\u001b[0;34m)\u001b[0m\u001b[0;34m,\u001b[0m \u001b[0mpadding\u001b[0m\u001b[0;34m=\u001b[0m\u001b[0;34m'same'\u001b[0m\u001b[0;34m,\u001b[0m\u001b[0;34m\u001b[0m\u001b[0m\n\u001b[1;32m     38\u001b[0m                                        data_format='channels_first')(conv5),\n\u001b[0;32m---> 39\u001b[0;31m                        conv4], axis=1)\n\u001b[0m\u001b[1;32m     40\u001b[0m conv6 = Conv3D(256, (1, 2, 2), strides=(1, 2, 2), activation='relu',\n\u001b[1;32m     41\u001b[0m                    padding='same', data_format='channels_first')(up6)\n",
      "\u001b[0;32m/Users/wier702/.virtualenvs/ubdl/lib/python2.7/site-packages/keras/layers/merge.pyc\u001b[0m in \u001b[0;36mconcatenate\u001b[0;34m(inputs, axis, **kwargs)\u001b[0m\n\u001b[1;32m    506\u001b[0m         \u001b[0mA\u001b[0m \u001b[0mtensor\u001b[0m\u001b[0;34m,\u001b[0m \u001b[0mthe\u001b[0m \u001b[0mconcatenation\u001b[0m \u001b[0mof\u001b[0m \u001b[0mthe\u001b[0m \u001b[0minputs\u001b[0m \u001b[0malongside\u001b[0m \u001b[0maxis\u001b[0m \u001b[0;34m`\u001b[0m\u001b[0maxis\u001b[0m\u001b[0;34m`\u001b[0m\u001b[0;34m.\u001b[0m\u001b[0;34m\u001b[0m\u001b[0m\n\u001b[1;32m    507\u001b[0m     \"\"\"\n\u001b[0;32m--> 508\u001b[0;31m     \u001b[0;32mreturn\u001b[0m \u001b[0mConcatenate\u001b[0m\u001b[0;34m(\u001b[0m\u001b[0maxis\u001b[0m\u001b[0;34m=\u001b[0m\u001b[0maxis\u001b[0m\u001b[0;34m,\u001b[0m \u001b[0;34m**\u001b[0m\u001b[0mkwargs\u001b[0m\u001b[0;34m)\u001b[0m\u001b[0;34m(\u001b[0m\u001b[0minputs\u001b[0m\u001b[0;34m)\u001b[0m\u001b[0;34m\u001b[0m\u001b[0m\n\u001b[0m\u001b[1;32m    509\u001b[0m \u001b[0;34m\u001b[0m\u001b[0m\n\u001b[1;32m    510\u001b[0m \u001b[0;34m\u001b[0m\u001b[0m\n",
      "\u001b[0;32m/Users/wier702/.virtualenvs/ubdl/lib/python2.7/site-packages/keras/engine/topology.pyc\u001b[0m in \u001b[0;36m__call__\u001b[0;34m(self, inputs, **kwargs)\u001b[0m\n\u001b[1;32m    569\u001b[0m                     \u001b[0mself\u001b[0m\u001b[0;34m.\u001b[0m\u001b[0mbuild\u001b[0m\u001b[0;34m(\u001b[0m\u001b[0minput_shapes\u001b[0m\u001b[0;34m[\u001b[0m\u001b[0;36m0\u001b[0m\u001b[0;34m]\u001b[0m\u001b[0;34m)\u001b[0m\u001b[0;34m\u001b[0m\u001b[0m\n\u001b[1;32m    570\u001b[0m                 \u001b[0;32melse\u001b[0m\u001b[0;34m:\u001b[0m\u001b[0;34m\u001b[0m\u001b[0m\n\u001b[0;32m--> 571\u001b[0;31m                     \u001b[0mself\u001b[0m\u001b[0;34m.\u001b[0m\u001b[0mbuild\u001b[0m\u001b[0;34m(\u001b[0m\u001b[0minput_shapes\u001b[0m\u001b[0;34m)\u001b[0m\u001b[0;34m\u001b[0m\u001b[0m\n\u001b[0m\u001b[1;32m    572\u001b[0m                 \u001b[0mself\u001b[0m\u001b[0;34m.\u001b[0m\u001b[0mbuilt\u001b[0m \u001b[0;34m=\u001b[0m \u001b[0mTrue\u001b[0m\u001b[0;34m\u001b[0m\u001b[0m\n\u001b[1;32m    573\u001b[0m \u001b[0;34m\u001b[0m\u001b[0m\n",
      "\u001b[0;32m/Users/wier702/.virtualenvs/ubdl/lib/python2.7/site-packages/keras/layers/merge.pyc\u001b[0m in \u001b[0;36mbuild\u001b[0;34m(self, input_shape)\u001b[0m\n\u001b[1;32m    275\u001b[0m                              \u001b[0;34m'inputs with matching shapes '\u001b[0m\u001b[0;34m\u001b[0m\u001b[0m\n\u001b[1;32m    276\u001b[0m                              \u001b[0;34m'except for the concat axis. '\u001b[0m\u001b[0;34m\u001b[0m\u001b[0m\n\u001b[0;32m--> 277\u001b[0;31m                              'Got inputs shapes: %s' % (input_shape))\n\u001b[0m\u001b[1;32m    278\u001b[0m \u001b[0;34m\u001b[0m\u001b[0m\n\u001b[1;32m    279\u001b[0m     \u001b[0;32mdef\u001b[0m \u001b[0mcall\u001b[0m\u001b[0;34m(\u001b[0m\u001b[0mself\u001b[0m\u001b[0;34m,\u001b[0m \u001b[0minputs\u001b[0m\u001b[0;34m)\u001b[0m\u001b[0;34m:\u001b[0m\u001b[0;34m\u001b[0m\u001b[0m\n",
      "\u001b[0;31mValueError\u001b[0m: `Concatenate` layer requires inputs with matching shapes except for the concat axis. Got inputs shapes: [(None, 256, 1, 76, 28), (None, 256, 1, 75, 28)]"
     ]
    }
   ],
   "source": []
  },
  {
   "cell_type": "code",
   "execution_count": null,
   "metadata": {
    "collapsed": true
   },
   "outputs": [],
   "source": []
  }
 ],
 "metadata": {
  "kernelspec": {
   "display_name": "Python 2",
   "language": "python",
   "name": "python2"
  },
  "language_info": {
   "codemirror_mode": {
    "name": "ipython",
    "version": 2
   },
   "file_extension": ".py",
   "mimetype": "text/x-python",
   "name": "python",
   "nbconvert_exporter": "python",
   "pygments_lexer": "ipython2",
   "version": "2.7.10"
  }
 },
 "nbformat": 4,
 "nbformat_minor": 2
}
